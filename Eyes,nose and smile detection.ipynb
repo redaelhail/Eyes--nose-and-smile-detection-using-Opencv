{
 "cells": [
  {
   "cell_type": "code",
   "execution_count": 1,
   "metadata": {},
   "outputs": [],
   "source": [
    "import cv2\n",
    "import numpy as np"
   ]
  },
  {
   "cell_type": "code",
   "execution_count": 7,
   "metadata": {},
   "outputs": [],
   "source": [
    "# Load face, eye, and nose cascade files\n",
    "face_cascade = cv2.CascadeClassifier(r'C:\\Users\\Reda\\Desktop\\XmlFiles\\haarcascade_frontalface_alt.xml')\n",
    "eye_cascade = cv2.CascadeClassifier(r'C:\\Users\\Reda\\Desktop\\XmlFiles\\Cascade_eye_classifier1.xml')\n",
    "nose_cascade = cv2.CascadeClassifier(r'C:\\Users\\Reda\\Desktop\\XmlFiles\\Cascade_nose_classifier.xml')\n",
    "smile_cascade = cv2.CascadeClassifier(r'C:\\Users\\Reda\\Desktop\\XmlFiles\\Cascade_smile_classifier.xml')"
   ]
  },
  {
   "cell_type": "code",
   "execution_count": 8,
   "metadata": {},
   "outputs": [],
   "source": [
    "# Check if face cascade file has been loaded\n",
    "if face_cascade.empty():\n",
    "    raise IOError('Unable to load the face cascade classifier xml file')\n",
    "# Check if eye cascade file has been loaded\n",
    "if eye_cascade.empty():\n",
    "    raise IOError('Unable to load the eye cascade classifier xml file')\n",
    "# Check if nose cascade file has been loaded\n",
    "if nose_cascade.empty():\n",
    "    raise IOError('Unable to load the nose cascade classifier xml file')\n",
    "if smile_cascade.empty():\n",
    "    raise IOError('Unable to load the smile cascade classifier xml file')"
   ]
  },
  {
   "cell_type": "code",
   "execution_count": 13,
   "metadata": {},
   "outputs": [],
   "source": [
    "cap = cv2.VideoCapture(0)\n",
    "scaling_factor = 1\n",
    "\n",
    "while True:\n",
    "    ret, frame = cap.read()\n",
    "    frame = cv2.resize(frame, None , fx = scaling_factor, fy= scaling_factor, interpolation=cv2.INTER_AREA)\n",
    "    \n",
    "    gray = cv2.cvtColor(frame, cv2.COLOR_BGR2GRAY)\n",
    "    \n",
    "    faces = face_cascade.detectMultiScale(gray, 1.3, 5)\n",
    "\n",
    "    # Run eye and nose detectors within each face rectangle\n",
    "    for (x,y,w,h) in faces:\n",
    "        # Grab the current ROI in both color and grayscale images\n",
    "        roi_gray = gray[y:y+h, x:x+w]\n",
    "        roi_color = frame[y:y+h, x:x+w]\n",
    "        \n",
    "        # Run eye detector in the grayscale ROI\n",
    "        eye_rects = eye_cascade.detectMultiScale(roi_gray)\n",
    "        # Run nose detector in the grayscale ROI\n",
    "        nose_rects = nose_cascade.detectMultiScale(roi_gray, 1.3,5)\n",
    "        # Run smile detector in the grayscale ROI\n",
    "        smile_rects = smile_cascade.detectMultiScale(roi_gray)\n",
    "        \n",
    "        # Draw green circles around the eyes\n",
    "        for (x_eye, y_eye, w_eye, h_eye) in eye_rects:\n",
    "            center = (int(x_eye + 0.5*w_eye), int(y_eye + 0.5*h_eye))\n",
    "            radius = int(0.3 * (w_eye + h_eye))\n",
    "            color = (0, 255, 0)\n",
    "            thickness = 3\n",
    "            cv2.circle(roi_color, center, radius, color,thickness)\n",
    "        \n",
    "        # Draw green rect around the nose\n",
    "        for (x_nose, y_nose, w_nose, h_nose) in nose_rects:\n",
    "            cv2.rectangle(roi_color, (x_nose, y_nose), (x_nose+w_nose,y_nose+h_nose), (255, 255, 0), 3)\n",
    "            break\n",
    "        # Draw green rect around the smile\n",
    "        for (x_smile, y_smile, w_smile, h_smile) in smile_rects:\n",
    "            cv2.rectangle(roi_color, (x_smile, y_smile), (x_smile+w_smile,y_smile+h_smile), (255, 87, 51), 3)\n",
    "            break\n",
    "        \n",
    "    # Display the image\n",
    "    cv2.imshow('Eye and nose detector', frame)\n",
    "    \n",
    "    # Check if Esc key has been pressed\n",
    "    c = cv2.waitKey(1)\n",
    "    if c == 27:\n",
    "        break\n",
    "    \n",
    "# Release the video capture object and close all windows\n",
    "cap.release()\n",
    "cv2.destroyAllWindows()\n",
    "    \n",
    "    \n",
    "    "
   ]
  },
  {
   "cell_type": "code",
   "execution_count": null,
   "metadata": {},
   "outputs": [],
   "source": []
  }
 ],
 "metadata": {
  "kernelspec": {
   "display_name": "Python 3",
   "language": "python",
   "name": "python3"
  },
  "language_info": {
   "codemirror_mode": {
    "name": "ipython",
    "version": 3
   },
   "file_extension": ".py",
   "mimetype": "text/x-python",
   "name": "python",
   "nbconvert_exporter": "python",
   "pygments_lexer": "ipython3",
   "version": "3.6.5"
  }
 },
 "nbformat": 4,
 "nbformat_minor": 2
}
